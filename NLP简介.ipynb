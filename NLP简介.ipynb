{
 "cells": [
  {
   "cell_type": "markdown",
   "metadata": {},
   "source": [
    "# 自然语言处理（NLP）知识简介"
   ]
  },
  {
   "cell_type": "markdown",
   "metadata": {},
   "source": [
    "## 1.自然语言的概念\n",
    "### 什么是自然语言？\n"
   ]
  },
  {
   "cell_type": "markdown",
   "metadata": {
    "slideshow": {
     "slide_type": "-"
    }
   },
   "source": [
    "自然语言是人类社会发展过程中产生的、是最能体现人类智慧和文明的产物、\n",
    "是思维的载体，人类交流、表达情感 最自然、直接方便的工具。"
   ]
  },
  {
   "cell_type": "markdown",
   "metadata": {},
   "source": [
    "### 自然语言处理的理解"
   ]
  },
  {
   "cell_type": "markdown",
   "metadata": {},
   "source": [
    "自然语言处理(NLP)是研究如何利用计算机技术对语言文本（句子、篇章或话语等）进行处理和加工的一门学科，研究内容包括对词法、句语义和用等信息的识别、分类提取转换和生成等各种处理方法和实现技术。\n",
    "\n",
    "自然语言理解(NLU)是探索人类自身语言能力和思维活动的本质，研究模仿人类语言认知过程自然言处理方法和实现技术的一门学科。它是人工智能早期研究的领域之一，是门在语言学、计算机科认知科学、信息论和数等多基础上形成的交叉学科。\n",
    "\n",
    "NLP,NLU∈人类语言技术(human language technique, HLT) "
   ]
  },
  {
   "cell_type": "markdown",
   "metadata": {},
   "source": [
    "### 自然语言处理的应用"
   ]
  },
  {
   "cell_type": "markdown",
   "metadata": {},
   "source": [
    "问答对话系统\n",
    "机器翻译\n",
    "自动分词"
   ]
  },
  {
   "cell_type": "markdown",
   "metadata": {},
   "source": [
    "## 2.自然语言处理方法"
   ]
  },
  {
   "cell_type": "markdown",
   "metadata": {},
   "source": [
    "### 统计学习方法（1980s~）\n",
    "监督学习、非监督学习、半监督学习、强化学习"
   ]
  },
  {
   "cell_type": "markdown",
   "metadata": {},
   "source": [
    "#### 监督学习统计模型\n",
    "n元语法模型 (n-gram) / 语言模型 (language mode, LM)，隐马尔可夫模型（HMM）\n",
    "\n",
    "k-近邻法 (k-nearest nearestneighbor, neighbor, neighbor,k-NN) ：多类分类问题\n",
    "朴素贝叶斯法 (naive Bayes )：多类分类问题\n",
    "决策树 (decision tree) ：多类分类问题\n",
    "最大熵 (maximum entropy) entropy) ：多类分类问题\n",
    "感知机 (perceptron) ：二类问题 \n",
    "支持向量机 (support vector machine, SVM) ：二类问题\n",
    "条件随机场 (conditional random field, CRF) ：序列标注"
   ]
  },
  {
   "cell_type": "markdown",
   "metadata": {},
   "source": [
    "### 深度学习方法（2006s~）"
   ]
  },
  {
   "cell_type": "markdown",
   "metadata": {},
   "source": [
    "#### 循环神经网络\n",
    "问题：梯度消失或爆炸-需要有选择遗忘\n",
    "#### 长短时记忆网络（LSTM）\n"
   ]
  },
  {
   "cell_type": "markdown",
   "metadata": {},
   "source": [
    "# 待补充"
   ]
  },
  {
   "cell_type": "code",
   "execution_count": null,
   "metadata": {
    "collapsed": true
   },
   "outputs": [],
   "source": []
  }
 ],
 "metadata": {
  "kernelspec": {
   "display_name": "Python 3",
   "language": "python",
   "name": "python3"
  },
  "language_info": {
   "codemirror_mode": {
    "name": "ipython",
    "version": 3
   },
   "file_extension": ".py",
   "mimetype": "text/x-python",
   "name": "python",
   "nbconvert_exporter": "python",
   "pygments_lexer": "ipython3",
   "version": "3.5.4"
  },
  "widgets": {
   "state": {},
   "version": "1.1.2"
  }
 },
 "nbformat": 4,
 "nbformat_minor": 2
}
